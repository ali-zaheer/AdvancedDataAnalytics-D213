{
 "cells": [
  {
   "cell_type": "code",
   "execution_count": null,
   "id": "4ff1c174",
   "metadata": {},
   "outputs": [],
   "source": [
    "import pandas as pd\n",
    "from datetime import datetime\n",
    "import numpy as np\n",
    "from sklearn.preprocessing import StandardScaler\n",
    "from scipy import stats\n",
    "from statsmodels.tsa.stattools import adfuller\n",
    "from statsmodels.tsa.seasonal import seasonal_decompose\n",
    "from statsmodels.graphics.tsaplots import plot_acf, plot_pacf\n",
    "from pmdarima.arima import auto_arima\n",
    "from scipy import signal\n",
    "import statsmodels.api as sm\n",
    "\n",
    "import warnings\n",
    "warnings.filterwarnings('ignore')\n",
    "\n",
    "# Visual libraries\n",
    "import seaborn as sns\n",
    "import matplotlib.pyplot as plt\n",
    "%matplotlib inline\n",
    "\n",
    "#Show all Columns and Rows\n",
    "pd.options.display.max_columns = None\n",
    "pd.options.display.max_rows = None\n",
    "\n",
    "# %matploblib inline, standarize figure size\n",
    "from matplotlib.pylab import rcParams\n",
    "rcParams['figure.figsize']= 12,5"
   ]
  },
  {
   "cell_type": "markdown",
   "id": "e8076e70",
   "metadata": {},
   "source": [
    "### Explorer Dataset"
   ]
  },
  {
   "cell_type": "code",
   "execution_count": null,
   "id": "65e9e848",
   "metadata": {
    "scrolled": true
   },
   "outputs": [],
   "source": [
    "# Load data set\n",
    "df = pd.read_csv('teleco_time_series .csv')"
   ]
  },
  {
   "cell_type": "code",
   "execution_count": null,
   "id": "fdad8bd5",
   "metadata": {},
   "outputs": [],
   "source": [
    "#Create Date from Days\n",
    "df['Date'] = (pd.date_range(datetime(2020,1,1), periods=df.shape[0]))\n",
    "\n",
    "#df['Date']= pd.to_datetime(df['Date'],infer_datetime_format=True)\n",
    "df.set_index('Date', inplace=True)\n",
    "df.head()"
   ]
  },
  {
   "cell_type": "code",
   "execution_count": null,
   "id": "dd439305",
   "metadata": {},
   "outputs": [],
   "source": [
    "df.shape"
   ]
  },
  {
   "cell_type": "code",
   "execution_count": null,
   "id": "7a113ef0",
   "metadata": {
    "scrolled": true
   },
   "outputs": [],
   "source": [
    "df.describe()"
   ]
  },
  {
   "cell_type": "markdown",
   "id": "5d668cc2",
   "metadata": {},
   "source": [
    "### Revenue in Million over the years"
   ]
  },
  {
   "cell_type": "markdown",
   "id": "d43aaea2",
   "metadata": {},
   "source": [
    "### Part C1"
   ]
  },
  {
   "cell_type": "code",
   "execution_count": null,
   "id": "24bcc1b3",
   "metadata": {},
   "outputs": [],
   "source": [
    "sns.regplot(x=df.Day, y=df.Revenue, data=df)\n",
    "plt.xticks(rotation = 'vertical')\n",
    "plt.title('Time Series: Revenue Over Two Years')\n",
    "plt.ylabel('($Millions) Revenue')\n",
    "plt.show()"
   ]
  },
  {
   "cell_type": "markdown",
   "id": "d768ebd7",
   "metadata": {},
   "source": [
    "### Clean Dataset"
   ]
  },
  {
   "cell_type": "code",
   "execution_count": null,
   "id": "e01bf7ac",
   "metadata": {},
   "outputs": [],
   "source": [
    "#Drop Days column\n",
    "df.drop(columns=['Day'], inplace=True)"
   ]
  },
  {
   "cell_type": "code",
   "execution_count": null,
   "id": "53f5cd64",
   "metadata": {},
   "outputs": [],
   "source": [
    "# Count of missing values per columns\n",
    "df.isna().sum()"
   ]
  },
  {
   "cell_type": "code",
   "execution_count": null,
   "id": "f5f0aadc",
   "metadata": {},
   "outputs": [],
   "source": [
    "# Using box plot plot to identify outliers\n",
    "Revenue = df['Revenue']\n",
    "Revenue.plot.box()"
   ]
  },
  {
   "cell_type": "code",
   "execution_count": null,
   "id": "7ff0d038",
   "metadata": {},
   "outputs": [],
   "source": [
    "# Investigate distribution of Revenue column using histogram\n",
    "df[\"Revenue\"].plot(kind = \"hist\", title = 'Revenue Histogram')"
   ]
  },
  {
   "cell_type": "code",
   "execution_count": null,
   "id": "651bcdb5",
   "metadata": {},
   "outputs": [],
   "source": [
    "# Create a new column with standarized Income values\n",
    "df[\"Revenue_z\"] = stats.zscore(df[\"Revenue\"])"
   ]
  },
  {
   "cell_type": "code",
   "execution_count": null,
   "id": "04142bfc",
   "metadata": {},
   "outputs": [],
   "source": [
    "# Based on the z score isolate the outliers\n",
    "df_revenue_outliers = df.query('Revenue_z > 3 | Revenue_z < -3')"
   ]
  },
  {
   "cell_type": "code",
   "execution_count": null,
   "id": "bebd559d",
   "metadata": {},
   "outputs": [],
   "source": [
    "# Create a new data set for the outliers and sort it in descending order\n",
    "df_revenue_outliers_sort_values = df_revenue_outliers.sort_values(['Revenue_z'], ascending = False)"
   ]
  },
  {
   "cell_type": "code",
   "execution_count": null,
   "id": "5a35768e",
   "metadata": {},
   "outputs": [],
   "source": [
    "# List out the outliers\n",
    "df.drop(columns=['Revenue_z'], inplace=True)\n",
    "df_revenue_outliers_sort_values['Revenue'].head()"
   ]
  },
  {
   "cell_type": "markdown",
   "id": "8b4856a0",
   "metadata": {},
   "source": [
    "### Checking for trend using P-value"
   ]
  },
  {
   "cell_type": "code",
   "execution_count": null,
   "id": "61c37caf",
   "metadata": {},
   "outputs": [],
   "source": [
    "pre_eval = df['Revenue']\n",
    "pre_eval_result = adfuller(pre_eval, autolag='AIC')\n",
    "print('ADF Statistic: %f' % pre_eval_result[0])\n",
    "print('p-value: %f' % pre_eval_result[1])\n",
    "print('Critical Values:')\n",
    "for key, value in pre_eval_result[4].items():\n",
    "    print('\\t%s: %.3f' % (key, value))"
   ]
  },
  {
   "cell_type": "code",
   "execution_count": null,
   "id": "c26567ff",
   "metadata": {},
   "outputs": [],
   "source": [
    "# Apply the difference to make the data non-stationary\n",
    "df_stationary = df.Revenue.diff().dropna()"
   ]
  },
  {
   "cell_type": "code",
   "execution_count": null,
   "id": "da2d2dbb",
   "metadata": {},
   "outputs": [],
   "source": [
    "sns.lineplot(data=df_stationary)\n",
    "plt.xticks(rotation = 'vertical')\n",
    "plt.title('Stationarity, No Trends Over Months')\n",
    "plt.plot()"
   ]
  },
  {
   "cell_type": "code",
   "execution_count": null,
   "id": "8eadab08",
   "metadata": {},
   "outputs": [],
   "source": [
    "df_stationary.head()"
   ]
  },
  {
   "cell_type": "markdown",
   "id": "618d85b1",
   "metadata": {},
   "source": [
    "### Adfuller after differencing"
   ]
  },
  {
   "cell_type": "code",
   "execution_count": null,
   "id": "1ab7305e",
   "metadata": {},
   "outputs": [],
   "source": [
    "_eval = df_stationary\n",
    "_eval_result = adfuller(_eval, autolag='AIC')\n",
    "print('ADF Statistic: %f' % _eval_result[0])\n",
    "print('p-value: %f' % _eval_result[1])"
   ]
  },
  {
   "cell_type": "code",
   "execution_count": null,
   "id": "2af5775c",
   "metadata": {},
   "outputs": [],
   "source": [
    "# Store the new dataset\n",
    "clean_df = df_stationary.copy()"
   ]
  },
  {
   "cell_type": "code",
   "execution_count": null,
   "id": "fea74610",
   "metadata": {},
   "outputs": [],
   "source": [
    "# Split the data to 80/20\n",
    "train_df = clean_df[:576] # 80%\n",
    "test_df = clean_df[577:] # 20%\n",
    "print('Train Size: ',train_df.shape)\n",
    "print('Test Size: ',test_df.shape)"
   ]
  },
  {
   "cell_type": "code",
   "execution_count": null,
   "id": "5d0f8014",
   "metadata": {},
   "outputs": [],
   "source": [
    "# Save Data Fram to CSV\n",
    "clean_df.to_csv('Cleaned_D213_TimeSeriesData.csv')"
   ]
  },
  {
   "cell_type": "code",
   "execution_count": null,
   "id": "f7e5b1ed",
   "metadata": {},
   "outputs": [],
   "source": [
    "fig, ax = plt.subplots()\n",
    "train_df.plot(ax=ax)\n",
    "test_df.plot(ax=ax)\n",
    "plt.xticks(rotation = 'vertical')\n",
    "plt.ylabel('Price in Mils')\n",
    "plt.xlabel('Train vs Test Dataset')\n",
    "plt.show()"
   ]
  },
  {
   "cell_type": "markdown",
   "id": "29002f3d",
   "metadata": {},
   "source": [
    "### auto_arima"
   ]
  },
  {
   "cell_type": "code",
   "execution_count": null,
   "id": "99d5cb7a",
   "metadata": {},
   "outputs": [],
   "source": [
    "stepwiseARIMA =  auto_arima(train_df, trace = True,\n",
    "                          suppress_warnings = True,  # we don't want convergence warnings\n",
    "                          stepwise = True )\n",
    "\n",
    "for k,v in stepwiseARIMA.get_params().items():\n",
    "    if k == 'order' or k == 'seasonal_order':\n",
    "        print (k,v)"
   ]
  },
  {
   "cell_type": "markdown",
   "id": "a615b828",
   "metadata": {},
   "source": [
    "### Spectral Density"
   ]
  },
  {
   "cell_type": "code",
   "execution_count": null,
   "id": "6452e453",
   "metadata": {},
   "outputs": [],
   "source": [
    "f, Pxx_den = signal.periodogram(train_df)\n",
    "plt.semilogy(f, Pxx_den)\n",
    "plt.ylim([1e-5, 1e5])\n",
    "plt.title('Spectral Density')\n",
    "plt.xlabel('Frequency [Hz]')\n",
    "plt.ylabel('Spectral Density')\n",
    "plt.show()"
   ]
  },
  {
   "cell_type": "markdown",
   "id": "abc96fe7",
   "metadata": {},
   "source": [
    "### ACF/PACF"
   ]
  },
  {
   "cell_type": "code",
   "execution_count": null,
   "id": "027a8539",
   "metadata": {
    "scrolled": true
   },
   "outputs": [],
   "source": [
    "# Auto Correlation Function\n",
    "plot_acf(train_df, lags=20, zero=False)\n",
    "plt.xlabel('Lags')\n",
    "plt.show()"
   ]
  },
  {
   "cell_type": "code",
   "execution_count": null,
   "id": "9c874929",
   "metadata": {},
   "outputs": [],
   "source": [
    "# Partial Auto Correlation Function\n",
    "plot_pacf(train_df, lags=10, zero=False)\n",
    "plt.xlabel('Lags')\n",
    "plt.show()"
   ]
  },
  {
   "cell_type": "markdown",
   "id": "ccc8309b",
   "metadata": {},
   "source": [
    "### Decompose"
   ]
  },
  {
   "cell_type": "code",
   "execution_count": null,
   "id": "a48c83f6",
   "metadata": {},
   "outputs": [],
   "source": [
    "results=seasonal_decompose(train_df, period=12)\n",
    "results.plot().legends"
   ]
  },
  {
   "cell_type": "code",
   "execution_count": null,
   "id": "24aef123",
   "metadata": {},
   "outputs": [],
   "source": [
    "pd.Series(results.trend).rename('Trend over Days').plot(legend=True)"
   ]
  },
  {
   "cell_type": "code",
   "execution_count": null,
   "id": "d82b4bfc",
   "metadata": {},
   "outputs": [],
   "source": [
    "pd.Series(results.seasonal).rename('Seasonality').plot(legend=True)"
   ]
  },
  {
   "cell_type": "code",
   "execution_count": null,
   "id": "6a4c729b",
   "metadata": {},
   "outputs": [],
   "source": [
    "pd.Series(results.resid).rename('Residuality').plot(legend=True)"
   ]
  },
  {
   "cell_type": "markdown",
   "id": "3e0c659e",
   "metadata": {},
   "source": [
    "### Train ARIMA First Model based on auto_arima"
   ]
  },
  {
   "cell_type": "code",
   "execution_count": null,
   "id": "575bc36b",
   "metadata": {},
   "outputs": [],
   "source": [
    "first_ar_model = sm.tsa.statespace.SARIMAX(train_df, order=(stepwiseARIMA.order))\n",
    "first_ar_model_fit = first_ar_model.fit()\n",
    "first_ar_model_fit.summary()"
   ]
  },
  {
   "cell_type": "code",
   "execution_count": null,
   "id": "1a3660b8",
   "metadata": {},
   "outputs": [],
   "source": [
    "#First Model prediction\n",
    "start = len(train_df)\n",
    "end = len(train_df)+len(test_df)-1\n",
    "\n",
    "first_ar_model_pred = pd.Series(first_ar_model_fit.predict(start=start, end=end, typ='levels')).rename('Predictions')\n",
    "first_ar_model_pred.index = df.index[start:end+1]\n",
    "first_ar_model_pred.head()"
   ]
  },
  {
   "cell_type": "code",
   "execution_count": null,
   "id": "8ba11def",
   "metadata": {},
   "outputs": [],
   "source": [
    "plt.plot(test_df, label='Actual')\n",
    "plt.plot(first_ar_model_pred,color='r', label='Prediction')\n",
    "plt.legend()\n",
    "plt.show()"
   ]
  },
  {
   "cell_type": "markdown",
   "id": "f7c8ff96",
   "metadata": {},
   "source": [
    "#### Sarimax - forecast"
   ]
  },
  {
   "cell_type": "code",
   "execution_count": null,
   "id": "f88cfeb2",
   "metadata": {},
   "outputs": [],
   "source": [
    "second_ar_model = sm.tsa.statespace.SARIMAX(df, order=(stepwiseARIMA.order))\n",
    "second_ar_model = second_ar_model.fit()\n",
    "second_ar_model.summary()"
   ]
  },
  {
   "cell_type": "code",
   "execution_count": null,
   "id": "357f5594",
   "metadata": {},
   "outputs": [],
   "source": [
    "prediction = second_ar_model.get_prediction(start=-90, dynamic = False)\n",
    "prediction_ci = prediction.conf_int()\n",
    "prediction_ci.head()"
   ]
  },
  {
   "cell_type": "code",
   "execution_count": null,
   "id": "bc43a3d9",
   "metadata": {},
   "outputs": [],
   "source": [
    "#Visualize the forecasting\n",
    "ax = df.plot(label = 'observed')\n",
    "prediction.predicted_mean.plot(ax = ax, label='Prediction')\n",
    "ax.fill_between(prediction_ci.index, prediction_ci.iloc[:, 0], prediction_ci.iloc[:, 1], color = 'k', alpha = 0.2)\n",
    "ax.set_xlabel(\"Date\")\n",
    "ax.set_ylabel('Revenue (in Millions)')\n",
    "plt.title('Telcom Revenue Forecast for next 90 days')\n",
    "plt.legend()\n",
    "plt.show()"
   ]
  },
  {
   "cell_type": "code",
   "execution_count": null,
   "id": "864c2bb6",
   "metadata": {},
   "outputs": [],
   "source": [
    "# Evaluation metrics are Squared Mean Error(SME) and Root Mean Squared Error(RMSE)\n",
    "y_hat = prediction.predicted_mean\n",
    "y_truth = df.Revenue\n",
    "\n",
    "mse = ((y_hat - y_truth) ** 2).mean()\n",
    "rmse = np.sqrt(mse)\n",
    "print('The Mean Squared Error of our forecasts is {}'.format(round(mse, 2)))\n",
    "print('The Root Mean Squared Error of our forecasts is {}'.format(round(rmse, 2)))"
   ]
  }
 ],
 "metadata": {
  "kernelspec": {
   "display_name": "Python 3 (ipykernel)",
   "language": "python",
   "name": "python3"
  },
  "language_info": {
   "codemirror_mode": {
    "name": "ipython",
    "version": 3
   },
   "file_extension": ".py",
   "mimetype": "text/x-python",
   "name": "python",
   "nbconvert_exporter": "python",
   "pygments_lexer": "ipython3",
   "version": "3.7.13"
  }
 },
 "nbformat": 4,
 "nbformat_minor": 5
}
